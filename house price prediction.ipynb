{
  "nbformat": 4,
  "nbformat_minor": 0,
  "metadata": {
    "colab": {
      "provenance": []
    },
    "kernelspec": {
      "name": "python3",
      "display_name": "Python 3"
    },
    "language_info": {
      "name": "python"
    }
  },
  "cells": [
    {
      "cell_type": "code",
      "execution_count": 5,
      "metadata": {
        "colab": {
          "base_uri": "https://localhost:8080/"
        },
        "id": "hrr66ZMfIkkU",
        "outputId": "743c8d04-ed55-406f-dcc2-b692771450fc"
      },
      "outputs": [
        {
          "output_type": "stream",
          "name": "stdout",
          "text": [
            "   house_id  bedrooms  bathrooms  square_feet neighborhood  year_built   price\n",
            "0         1         3          2         2000     Suburban        1990  300000\n",
            "1         2         4          3         2500        Urban        2005  400000\n",
            "2         3         2          1         1500        Rural        1985  200000\n",
            "3         4         5          4         3500     Suburban        2010  600000\n",
            "4         5         3          2         1800        Urban        1995  320000\n",
            "Mean Squared Error: 5728939162.195812\n",
            "Predicted Prices: [300613.76519821 467390.01394921]\n"
          ]
        },
        {
          "output_type": "stream",
          "name": "stderr",
          "text": [
            "/usr/local/lib/python3.10/dist-packages/sklearn/base.py:439: UserWarning: X does not have valid feature names, but LinearRegression was fitted with feature names\n",
            "  warnings.warn(\n"
          ]
        }
      ],
      "source": [
        "# Importing necessary libraries\n",
        "import pandas as pd\n",
        "import numpy as np\n",
        "from sklearn.model_selection import train_test_split\n",
        "from sklearn.linear_model import LinearRegression\n",
        "from sklearn.metrics import mean_squared_error\n",
        "\n",
        "# Load the dataset\n",
        "data = pd.read_csv('/content/Houses.CSV')\n",
        "\n",
        "# Display the first few rows of the dataset\n",
        "print(data.head())\n",
        "\n",
        "# Selecting features and target variable\n",
        "X = data[['bedrooms', 'bathrooms', 'square_feet', 'year_built']]\n",
        "y = data['price']\n",
        "\n",
        "# Splitting the data into training and testing sets\n",
        "X_train, X_test, y_train, y_test = train_test_split(X, y, test_size=0.2, random_state=42)\n",
        "\n",
        "# Initialize the linear regression model\n",
        "model = LinearRegression()\n",
        "\n",
        "# Train the model\n",
        "model.fit(X_train, y_train)\n",
        "\n",
        "# Predictions on the testing set\n",
        "predictions = model.predict(X_test)\n",
        "\n",
        "# Calculate mean squared error\n",
        "mse = mean_squared_error(y_test, predictions)\n",
        "print('Mean Squared Error:', mse)\n",
        "\n",
        "# Example prediction\n",
        "example_features = np.array([[3, 2, 2000, 1990], [4, 3, 2500, 2005]])  # Example features for prediction\n",
        "predicted_prices = model.predict(example_features)\n",
        "print('Predicted Prices:', predicted_prices)\n"
      ]
    }
  ]
}